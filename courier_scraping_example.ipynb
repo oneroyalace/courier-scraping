{
 "cells": [
  {
   "cell_type": "code",
   "execution_count": 1,
   "id": "feb1ba62-94e1-4ee0-b0f3-8ebcf470b1c4",
   "metadata": {},
   "outputs": [],
   "source": [
    "from typing import Any, Mapping\n",
    "\n",
    "from bs4 import BeautifulSoup\n",
    "from selenium import webdriver\n",
    "from selenium.webdriver.common.by import By\n",
    "from selenium.webdriver.support.select import Select\n",
    "from selenium.webdriver.firefox.service import Service as FirefoxService\n",
    "from selenium.webdriver.firefox.webdriver import WebDriver\n",
    "from webdriver_manager.firefox import GeckoDriverManager\n"
   ]
  },
  {
   "cell_type": "code",
   "execution_count": 2,
   "id": "23fbb8b1-c8c4-497f-8994-c4d2c47d2c37",
   "metadata": {},
   "outputs": [],
   "source": [
    "story_title_selector = \"h1.entry-title\"\n",
    "story_author_selector = \"span.post-author\"\n",
    "story_section_selector = \"a.post-category\"\n",
    "\n",
    "\"\"\" Extracts metadata from the story at `url`\n",
    "Args:\n",
    "    driver: The Selenium Firefox WebDriver instance\n",
    "    url: A url that hopefully points to a story\n",
    "Returns:\n",
    "    A dictionary containing metadata on the story. You'll probably want to capture more metadata than I did. \n",
    "    I imagine we might want the full text of the story, etc, etc.\n",
    "\"\"\"\n",
    "\n",
    "def scrape_story(driver: WebDriver, url: str) -> Mapping[str, Any]:\n",
    "    print(\"scraping story\", url)\n",
    "    open_url_in_new_tab(driver, url)  # Open the story in a new tab\n",
    "    \n",
    "    story_title = driver.find_element(By.CSS_SELECTOR, story_title_selector).text  # Since we want raw metadata, we're accessing the elements' text attributes\n",
    "    story_author = driver.find_element(By.CSS_SELECTOR, story_author_selector).text\n",
    "    story_section = driver.find_element(By.CSS_SELECTOR, story_section_selector).text\n",
    "    story_text = \"\" #...\n",
    "    \n",
    "    # ...\n",
    "    # capture additional metadata\n",
    "    # ...\n",
    "    story_metadata = {\n",
    "        \"title\": story_title,\n",
    "        \"author\": story_author,\n",
    "        \"section\": story_section,\n",
    "        \"url\": url,\n",
    "        #... additional metadata\n",
    "    }\n",
    "    close_current_tab(driver)\n",
    "    return story_metadata, driver"
   ]
  },
  {
   "cell_type": "code",
   "execution_count": 3,
   "id": "bee42116-7b4f-452c-961f-fa7954cf2da0",
   "metadata": {},
   "outputs": [],
   "source": [
    "\"\"\" Closes the current selenium driver tab and switches context to the first open tab\n",
    "Args:\n",
    "    driver: The Selenium Firefox WebDriver instance\n",
    "Returns:\n",
    "    None\n",
    "\"\"\"\n",
    "def close_current_tab(driver: WebDriver) -> None:\n",
    "    driver.close()\n",
    "    main_tab_handle = driver.window_handles[0]\n",
    "    driver.switch_to.window(main_tab_handle)"
   ]
  },
  {
   "cell_type": "code",
   "execution_count": 4,
   "id": "7f1b8e52-bf8d-493a-ad98-2eb51b185893",
   "metadata": {},
   "outputs": [],
   "source": [
    "\"\"\" Opens a new selenium driver  tab and navigates to the url provided\n",
    "Args:\n",
    "    driver: The Selenium Firefox WebDriver instance\n",
    "    url: The url to navigate to\n",
    "Returns:\n",
    "    None\n",
    "\"\"\"\n",
    "def open_url_in_new_tab(driver: WebDriver, url: str) -> None:\n",
    "    driver.switch_to.new_window() # opens a new tab\n",
    "    new_tab_handle = driver.window_handles[-1]  # grab the last browser handle (which we just opened)\n",
    "    driver.switch_to.window(new_tab_handle)\n",
    "    driver.get(url)"
   ]
  },
  {
   "cell_type": "code",
   "execution_count": 5,
   "id": "566b1889-a46c-4cdd-beed-2146736b2c94",
   "metadata": {},
   "outputs": [
    {
     "name": "stderr",
     "output_type": "stream",
     "text": [
      "[WDM] - Downloading: 16.9kB [00:00, 1.08MB/s]                                                                                                                                        \n"
     ]
    }
   ],
   "source": [
    "##### Load landing page for individual Courier Site\n",
    "\n",
    "driver = webdriver.Firefox(service=FirefoxService(GeckoDriverManager().install()))  # Ensure we have the latest GeckoDriver (used to run Firefox)\n",
    "landing_page_url = \"https://cardinalpine.com/\"  # The landing page (hopefully) contains a dynamic list of all the stories we need to scrape from that outlet \n",
    "driver.get(landing_page_url)  # Navigate to the landing page  "
   ]
  },
  {
   "cell_type": "code",
   "execution_count": 6,
   "id": "40d24904-1467-4cb6-9062-ea5f5bf07345",
   "metadata": {},
   "outputs": [],
   "source": [
    "#### Find the \"recent stories\" feed\n",
    "\n",
    "feed_container_class = \"recent-posts\"  # This is the HTML class of the div containing the story feed \n",
    "feed_container_element = driver.find_element(By.CLASS_NAME, feed_container_class)  # We'll capture that div in a python variable for easy access"
   ]
  },
  {
   "cell_type": "code",
   "execution_count": 7,
   "id": "93b6c51e-d760-4734-b2de-7dc246693361",
   "metadata": {},
   "outputs": [
    {
     "name": "stdout",
     "output_type": "stream",
     "text": [
      "8 stories in feed\n",
      "scraping story https://cardinalpine.com/story/were-running-out-of-time-to-adequately-address-climate-change/\n",
      "scraping story https://cardinalpine.com/story/spring-is-here-our-guide-to-ncs-most-pleasant-and-pollinated-season/\n",
      "scraping story https://cardinalpine.com/story/democrats-advocates-want-north-carolina-corporate-tax-retained/\n",
      "scraping story https://cardinalpine.com/story/yes-there-are-elections-this-year-a-new-state-tool-tells-you-all-you-need-to-know/\n",
      "scraping story https://cardinalpine.com/story/celebrate-pi-day-in-north-carolina-with-discount-pizza-and-philosophy/\n",
      "scraping story https://cardinalpine.com/story/nc-supreme-court-will-hear-voting-rights-cases-it-already-decided/\n",
      "scraping story https://cardinalpine.com/story/women-workers-here-are-tools-to-get-the-pay-you-deserve-copy/\n",
      "scraping story https://cardinalpine.com/story/survey-give-us-your-oscar-picks/\n",
      "16 stories in feed\n",
      "scraping story https://cardinalpine.com/story/biden-tax-billionaires-corporations-strengthen-medicare-child-care-help-families-strong/\n",
      "scraping story https://cardinalpine.com/story/north-carolina-lawmakers-rep-tim-longest-wake-county/\n",
      "scraping story https://cardinalpine.com/story/15-highest-rated-restaurants-for-a-night-out-on-the-town-in-greenville/\n",
      "scraping story https://cardinalpine.com/story/the-tragedy-of-north-carolinas-leandro-case/\n",
      "scraping story https://cardinalpine.com/story/biden-taxes-rich-strengthen-medicare/\n",
      "scraping story https://cardinalpine.com/story/gop-plans-cuts-social-security-medicare-medicaid-affordable-care-act/\n",
      "scraping story https://cardinalpine.com/story/op-ed-history-teacher-north-carolina-republican-education-bill-anti-history/\n",
      "scraping story https://cardinalpine.com/story/opossums-in-your-crawl-space-heres-what-to-do/\n",
      "24 stories in feed\n",
      "scraping story https://cardinalpine.com/story/list-cities-with-the-most-expensive-homes-in-north-carolina/\n",
      "scraping story https://cardinalpine.com/story/its-womens-history-month-here-are-big-milestones-for-women-from-the-year-you-were-born/\n",
      "scraping story https://cardinalpine.com/story/10-things-you-can-do-in-north-carolina-that-cost-10-or-less/\n",
      "scraping story https://cardinalpine.com/story/north-carolina-lawmakers-deal-expand-medicaid/\n",
      "scraping story https://cardinalpine.com/story/books-challenged-banned-north-carolina/\n",
      "scraping story https://cardinalpine.com/story/leaked-texts-fox-news-lies-conspiracies-2020-election/\n",
      "scraping story https://cardinalpine.com/story/mental-health-workforce-shortages/\n",
      "scraping story https://cardinalpine.com/story/duke-energy-carolinas-wants-to-raise-customers-bills-by-17/\n"
     ]
    },
    {
     "ename": "KeyboardInterrupt",
     "evalue": "",
     "output_type": "error",
     "traceback": [
      "\u001b[0;31m---------------------------------------------------------------------------\u001b[0m",
      "\u001b[0;31mKeyboardInterrupt\u001b[0m                         Traceback (most recent call last)",
      "Input \u001b[0;32mIn [7]\u001b[0m, in \u001b[0;36m<cell line: 37>\u001b[0;34m()\u001b[0m\n\u001b[1;32m     50\u001b[0m story_url \u001b[38;5;241m=\u001b[39m story_container_element\u001b[38;5;241m.\u001b[39mfind_element(By\u001b[38;5;241m.\u001b[39mCSS_SELECTOR, story_url_css_selector)\u001b[38;5;241m.\u001b[39mget_attribute(\u001b[38;5;124m\"\u001b[39m\u001b[38;5;124mhref\u001b[39m\u001b[38;5;124m\"\u001b[39m)\n\u001b[1;32m     52\u001b[0m \u001b[38;5;66;03m# Do the actual scraping\u001b[39;00m\n\u001b[0;32m---> 53\u001b[0m story_metadata \u001b[38;5;241m=\u001b[39m \u001b[43mscrape_story\u001b[49m\u001b[43m(\u001b[49m\u001b[43mdriver\u001b[49m\u001b[43m,\u001b[49m\u001b[43m \u001b[49m\u001b[43mstory_url\u001b[49m\u001b[43m)\u001b[49m  \n\u001b[1;32m     55\u001b[0m \u001b[38;5;66;03m# Store the current story's metadata in our larger data structure\u001b[39;00m\n\u001b[1;32m     56\u001b[0m all_stories_metadata\u001b[38;5;241m.\u001b[39mappend(story_metadata) \n",
      "Input \u001b[0;32mIn [2]\u001b[0m, in \u001b[0;36mscrape_story\u001b[0;34m(driver, url)\u001b[0m\n\u001b[1;32m     14\u001b[0m \u001b[38;5;28;01mdef\u001b[39;00m \u001b[38;5;21mscrape_story\u001b[39m(driver: WebDriver, url: \u001b[38;5;28mstr\u001b[39m) \u001b[38;5;241m-\u001b[39m\u001b[38;5;241m>\u001b[39m Mapping[\u001b[38;5;28mstr\u001b[39m, Any]:\n\u001b[1;32m     15\u001b[0m     \u001b[38;5;28mprint\u001b[39m(\u001b[38;5;124m\"\u001b[39m\u001b[38;5;124mscraping story\u001b[39m\u001b[38;5;124m\"\u001b[39m, url)\n\u001b[0;32m---> 16\u001b[0m     \u001b[43mopen_url_in_new_tab\u001b[49m\u001b[43m(\u001b[49m\u001b[43mdriver\u001b[49m\u001b[43m,\u001b[49m\u001b[43m \u001b[49m\u001b[43murl\u001b[49m\u001b[43m)\u001b[49m  \u001b[38;5;66;03m# Open the story in a new tab\u001b[39;00m\n\u001b[1;32m     18\u001b[0m     story_title \u001b[38;5;241m=\u001b[39m driver\u001b[38;5;241m.\u001b[39mfind_element(By\u001b[38;5;241m.\u001b[39mCSS_SELECTOR, story_title_selector)\u001b[38;5;241m.\u001b[39mtext  \u001b[38;5;66;03m# Since we want raw metadata, we're accessing the elements' text attributes\u001b[39;00m\n\u001b[1;32m     19\u001b[0m     story_author \u001b[38;5;241m=\u001b[39m driver\u001b[38;5;241m.\u001b[39mfind_element(By\u001b[38;5;241m.\u001b[39mCSS_SELECTOR, story_author_selector)\u001b[38;5;241m.\u001b[39mtext\n",
      "Input \u001b[0;32mIn [4]\u001b[0m, in \u001b[0;36mopen_url_in_new_tab\u001b[0;34m(driver, url)\u001b[0m\n\u001b[1;32m     10\u001b[0m new_tab_handle \u001b[38;5;241m=\u001b[39m driver\u001b[38;5;241m.\u001b[39mwindow_handles[\u001b[38;5;241m-\u001b[39m\u001b[38;5;241m1\u001b[39m]  \u001b[38;5;66;03m# grab the last browser handle (which we just opened)\u001b[39;00m\n\u001b[1;32m     11\u001b[0m driver\u001b[38;5;241m.\u001b[39mswitch_to\u001b[38;5;241m.\u001b[39mwindow(new_tab_handle)\n\u001b[0;32m---> 12\u001b[0m \u001b[43mdriver\u001b[49m\u001b[38;5;241;43m.\u001b[39;49m\u001b[43mget\u001b[49m\u001b[43m(\u001b[49m\u001b[43murl\u001b[49m\u001b[43m)\u001b[49m\n",
      "File \u001b[0;32m~/miniconda3/envs/ece230/lib/python3.8/site-packages/selenium/webdriver/remote/webdriver.py:449\u001b[0m, in \u001b[0;36mWebDriver.get\u001b[0;34m(self, url)\u001b[0m\n\u001b[1;32m    447\u001b[0m \u001b[38;5;28;01mdef\u001b[39;00m \u001b[38;5;21mget\u001b[39m(\u001b[38;5;28mself\u001b[39m, url: \u001b[38;5;28mstr\u001b[39m) \u001b[38;5;241m-\u001b[39m\u001b[38;5;241m>\u001b[39m \u001b[38;5;28;01mNone\u001b[39;00m:\n\u001b[1;32m    448\u001b[0m     \u001b[38;5;124;03m\"\"\"Loads a web page in the current browser session.\"\"\"\u001b[39;00m\n\u001b[0;32m--> 449\u001b[0m     \u001b[38;5;28;43mself\u001b[39;49m\u001b[38;5;241;43m.\u001b[39;49m\u001b[43mexecute\u001b[49m\u001b[43m(\u001b[49m\u001b[43mCommand\u001b[49m\u001b[38;5;241;43m.\u001b[39;49m\u001b[43mGET\u001b[49m\u001b[43m,\u001b[49m\u001b[43m \u001b[49m\u001b[43m{\u001b[49m\u001b[38;5;124;43m\"\u001b[39;49m\u001b[38;5;124;43murl\u001b[39;49m\u001b[38;5;124;43m\"\u001b[39;49m\u001b[43m:\u001b[49m\u001b[43m \u001b[49m\u001b[43murl\u001b[49m\u001b[43m}\u001b[49m\u001b[43m)\u001b[49m\n",
      "File \u001b[0;32m~/miniconda3/envs/ece230/lib/python3.8/site-packages/selenium/webdriver/remote/webdriver.py:438\u001b[0m, in \u001b[0;36mWebDriver.execute\u001b[0;34m(self, driver_command, params)\u001b[0m\n\u001b[1;32m    435\u001b[0m     \u001b[38;5;28;01melif\u001b[39;00m \u001b[38;5;124m\"\u001b[39m\u001b[38;5;124msessionId\u001b[39m\u001b[38;5;124m\"\u001b[39m \u001b[38;5;129;01mnot\u001b[39;00m \u001b[38;5;129;01min\u001b[39;00m params:\n\u001b[1;32m    436\u001b[0m         params[\u001b[38;5;124m\"\u001b[39m\u001b[38;5;124msessionId\u001b[39m\u001b[38;5;124m\"\u001b[39m] \u001b[38;5;241m=\u001b[39m \u001b[38;5;28mself\u001b[39m\u001b[38;5;241m.\u001b[39msession_id\n\u001b[0;32m--> 438\u001b[0m response \u001b[38;5;241m=\u001b[39m \u001b[38;5;28;43mself\u001b[39;49m\u001b[38;5;241;43m.\u001b[39;49m\u001b[43mcommand_executor\u001b[49m\u001b[38;5;241;43m.\u001b[39;49m\u001b[43mexecute\u001b[49m\u001b[43m(\u001b[49m\u001b[43mdriver_command\u001b[49m\u001b[43m,\u001b[49m\u001b[43m \u001b[49m\u001b[43mparams\u001b[49m\u001b[43m)\u001b[49m\n\u001b[1;32m    439\u001b[0m \u001b[38;5;28;01mif\u001b[39;00m response:\n\u001b[1;32m    440\u001b[0m     \u001b[38;5;28mself\u001b[39m\u001b[38;5;241m.\u001b[39merror_handler\u001b[38;5;241m.\u001b[39mcheck_response(response)\n",
      "File \u001b[0;32m~/miniconda3/envs/ece230/lib/python3.8/site-packages/selenium/webdriver/remote/remote_connection.py:290\u001b[0m, in \u001b[0;36mRemoteConnection.execute\u001b[0;34m(self, command, params)\u001b[0m\n\u001b[1;32m    288\u001b[0m data \u001b[38;5;241m=\u001b[39m utils\u001b[38;5;241m.\u001b[39mdump_json(params)\n\u001b[1;32m    289\u001b[0m url \u001b[38;5;241m=\u001b[39m \u001b[38;5;124mf\u001b[39m\u001b[38;5;124m\"\u001b[39m\u001b[38;5;132;01m{\u001b[39;00m\u001b[38;5;28mself\u001b[39m\u001b[38;5;241m.\u001b[39m_url\u001b[38;5;132;01m}\u001b[39;00m\u001b[38;5;132;01m{\u001b[39;00mpath\u001b[38;5;132;01m}\u001b[39;00m\u001b[38;5;124m\"\u001b[39m\n\u001b[0;32m--> 290\u001b[0m \u001b[38;5;28;01mreturn\u001b[39;00m \u001b[38;5;28;43mself\u001b[39;49m\u001b[38;5;241;43m.\u001b[39;49m\u001b[43m_request\u001b[49m\u001b[43m(\u001b[49m\u001b[43mcommand_info\u001b[49m\u001b[43m[\u001b[49m\u001b[38;5;241;43m0\u001b[39;49m\u001b[43m]\u001b[49m\u001b[43m,\u001b[49m\u001b[43m \u001b[49m\u001b[43murl\u001b[49m\u001b[43m,\u001b[49m\u001b[43m \u001b[49m\u001b[43mbody\u001b[49m\u001b[38;5;241;43m=\u001b[39;49m\u001b[43mdata\u001b[49m\u001b[43m)\u001b[49m\n",
      "File \u001b[0;32m~/miniconda3/envs/ece230/lib/python3.8/site-packages/selenium/webdriver/remote/remote_connection.py:311\u001b[0m, in \u001b[0;36mRemoteConnection._request\u001b[0;34m(self, method, url, body)\u001b[0m\n\u001b[1;32m    308\u001b[0m     body \u001b[38;5;241m=\u001b[39m \u001b[38;5;28;01mNone\u001b[39;00m\n\u001b[1;32m    310\u001b[0m \u001b[38;5;28;01mif\u001b[39;00m \u001b[38;5;28mself\u001b[39m\u001b[38;5;241m.\u001b[39mkeep_alive:\n\u001b[0;32m--> 311\u001b[0m     response \u001b[38;5;241m=\u001b[39m \u001b[38;5;28;43mself\u001b[39;49m\u001b[38;5;241;43m.\u001b[39;49m\u001b[43m_conn\u001b[49m\u001b[38;5;241;43m.\u001b[39;49m\u001b[43mrequest\u001b[49m\u001b[43m(\u001b[49m\u001b[43mmethod\u001b[49m\u001b[43m,\u001b[49m\u001b[43m \u001b[49m\u001b[43murl\u001b[49m\u001b[43m,\u001b[49m\u001b[43m \u001b[49m\u001b[43mbody\u001b[49m\u001b[38;5;241;43m=\u001b[39;49m\u001b[43mbody\u001b[49m\u001b[43m,\u001b[49m\u001b[43m \u001b[49m\u001b[43mheaders\u001b[49m\u001b[38;5;241;43m=\u001b[39;49m\u001b[43mheaders\u001b[49m\u001b[43m)\u001b[49m\n\u001b[1;32m    312\u001b[0m     statuscode \u001b[38;5;241m=\u001b[39m response\u001b[38;5;241m.\u001b[39mstatus\n\u001b[1;32m    313\u001b[0m \u001b[38;5;28;01melse\u001b[39;00m:\n",
      "File \u001b[0;32m~/miniconda3/envs/ece230/lib/python3.8/site-packages/urllib3/request.py:78\u001b[0m, in \u001b[0;36mRequestMethods.request\u001b[0;34m(self, method, url, fields, headers, **urlopen_kw)\u001b[0m\n\u001b[1;32m     74\u001b[0m     \u001b[38;5;28;01mreturn\u001b[39;00m \u001b[38;5;28mself\u001b[39m\u001b[38;5;241m.\u001b[39mrequest_encode_url(\n\u001b[1;32m     75\u001b[0m         method, url, fields\u001b[38;5;241m=\u001b[39mfields, headers\u001b[38;5;241m=\u001b[39mheaders, \u001b[38;5;241m*\u001b[39m\u001b[38;5;241m*\u001b[39murlopen_kw\n\u001b[1;32m     76\u001b[0m     )\n\u001b[1;32m     77\u001b[0m \u001b[38;5;28;01melse\u001b[39;00m:\n\u001b[0;32m---> 78\u001b[0m     \u001b[38;5;28;01mreturn\u001b[39;00m \u001b[38;5;28;43mself\u001b[39;49m\u001b[38;5;241;43m.\u001b[39;49m\u001b[43mrequest_encode_body\u001b[49m\u001b[43m(\u001b[49m\n\u001b[1;32m     79\u001b[0m \u001b[43m        \u001b[49m\u001b[43mmethod\u001b[49m\u001b[43m,\u001b[49m\u001b[43m \u001b[49m\u001b[43murl\u001b[49m\u001b[43m,\u001b[49m\u001b[43m \u001b[49m\u001b[43mfields\u001b[49m\u001b[38;5;241;43m=\u001b[39;49m\u001b[43mfields\u001b[49m\u001b[43m,\u001b[49m\u001b[43m \u001b[49m\u001b[43mheaders\u001b[49m\u001b[38;5;241;43m=\u001b[39;49m\u001b[43mheaders\u001b[49m\u001b[43m,\u001b[49m\u001b[43m \u001b[49m\u001b[38;5;241;43m*\u001b[39;49m\u001b[38;5;241;43m*\u001b[39;49m\u001b[43murlopen_kw\u001b[49m\n\u001b[1;32m     80\u001b[0m \u001b[43m    \u001b[49m\u001b[43m)\u001b[49m\n",
      "File \u001b[0;32m~/miniconda3/envs/ece230/lib/python3.8/site-packages/urllib3/request.py:170\u001b[0m, in \u001b[0;36mRequestMethods.request_encode_body\u001b[0;34m(self, method, url, fields, headers, encode_multipart, multipart_boundary, **urlopen_kw)\u001b[0m\n\u001b[1;32m    167\u001b[0m extra_kw[\u001b[38;5;124m\"\u001b[39m\u001b[38;5;124mheaders\u001b[39m\u001b[38;5;124m\"\u001b[39m]\u001b[38;5;241m.\u001b[39mupdate(headers)\n\u001b[1;32m    168\u001b[0m extra_kw\u001b[38;5;241m.\u001b[39mupdate(urlopen_kw)\n\u001b[0;32m--> 170\u001b[0m \u001b[38;5;28;01mreturn\u001b[39;00m \u001b[38;5;28;43mself\u001b[39;49m\u001b[38;5;241;43m.\u001b[39;49m\u001b[43murlopen\u001b[49m\u001b[43m(\u001b[49m\u001b[43mmethod\u001b[49m\u001b[43m,\u001b[49m\u001b[43m \u001b[49m\u001b[43murl\u001b[49m\u001b[43m,\u001b[49m\u001b[43m \u001b[49m\u001b[38;5;241;43m*\u001b[39;49m\u001b[38;5;241;43m*\u001b[39;49m\u001b[43mextra_kw\u001b[49m\u001b[43m)\u001b[49m\n",
      "File \u001b[0;32m~/miniconda3/envs/ece230/lib/python3.8/site-packages/urllib3/poolmanager.py:376\u001b[0m, in \u001b[0;36mPoolManager.urlopen\u001b[0;34m(self, method, url, redirect, **kw)\u001b[0m\n\u001b[1;32m    374\u001b[0m     response \u001b[38;5;241m=\u001b[39m conn\u001b[38;5;241m.\u001b[39murlopen(method, url, \u001b[38;5;241m*\u001b[39m\u001b[38;5;241m*\u001b[39mkw)\n\u001b[1;32m    375\u001b[0m \u001b[38;5;28;01melse\u001b[39;00m:\n\u001b[0;32m--> 376\u001b[0m     response \u001b[38;5;241m=\u001b[39m \u001b[43mconn\u001b[49m\u001b[38;5;241;43m.\u001b[39;49m\u001b[43murlopen\u001b[49m\u001b[43m(\u001b[49m\u001b[43mmethod\u001b[49m\u001b[43m,\u001b[49m\u001b[43m \u001b[49m\u001b[43mu\u001b[49m\u001b[38;5;241;43m.\u001b[39;49m\u001b[43mrequest_uri\u001b[49m\u001b[43m,\u001b[49m\u001b[43m \u001b[49m\u001b[38;5;241;43m*\u001b[39;49m\u001b[38;5;241;43m*\u001b[39;49m\u001b[43mkw\u001b[49m\u001b[43m)\u001b[49m\n\u001b[1;32m    378\u001b[0m redirect_location \u001b[38;5;241m=\u001b[39m redirect \u001b[38;5;129;01mand\u001b[39;00m response\u001b[38;5;241m.\u001b[39mget_redirect_location()\n\u001b[1;32m    379\u001b[0m \u001b[38;5;28;01mif\u001b[39;00m \u001b[38;5;129;01mnot\u001b[39;00m redirect_location:\n",
      "File \u001b[0;32m~/miniconda3/envs/ece230/lib/python3.8/site-packages/urllib3/connectionpool.py:703\u001b[0m, in \u001b[0;36mHTTPConnectionPool.urlopen\u001b[0;34m(self, method, url, body, headers, retries, redirect, assert_same_host, timeout, pool_timeout, release_conn, chunked, body_pos, **response_kw)\u001b[0m\n\u001b[1;32m    700\u001b[0m     \u001b[38;5;28mself\u001b[39m\u001b[38;5;241m.\u001b[39m_prepare_proxy(conn)\n\u001b[1;32m    702\u001b[0m \u001b[38;5;66;03m# Make the request on the httplib connection object.\u001b[39;00m\n\u001b[0;32m--> 703\u001b[0m httplib_response \u001b[38;5;241m=\u001b[39m \u001b[38;5;28;43mself\u001b[39;49m\u001b[38;5;241;43m.\u001b[39;49m\u001b[43m_make_request\u001b[49m\u001b[43m(\u001b[49m\n\u001b[1;32m    704\u001b[0m \u001b[43m    \u001b[49m\u001b[43mconn\u001b[49m\u001b[43m,\u001b[49m\n\u001b[1;32m    705\u001b[0m \u001b[43m    \u001b[49m\u001b[43mmethod\u001b[49m\u001b[43m,\u001b[49m\n\u001b[1;32m    706\u001b[0m \u001b[43m    \u001b[49m\u001b[43murl\u001b[49m\u001b[43m,\u001b[49m\n\u001b[1;32m    707\u001b[0m \u001b[43m    \u001b[49m\u001b[43mtimeout\u001b[49m\u001b[38;5;241;43m=\u001b[39;49m\u001b[43mtimeout_obj\u001b[49m\u001b[43m,\u001b[49m\n\u001b[1;32m    708\u001b[0m \u001b[43m    \u001b[49m\u001b[43mbody\u001b[49m\u001b[38;5;241;43m=\u001b[39;49m\u001b[43mbody\u001b[49m\u001b[43m,\u001b[49m\n\u001b[1;32m    709\u001b[0m \u001b[43m    \u001b[49m\u001b[43mheaders\u001b[49m\u001b[38;5;241;43m=\u001b[39;49m\u001b[43mheaders\u001b[49m\u001b[43m,\u001b[49m\n\u001b[1;32m    710\u001b[0m \u001b[43m    \u001b[49m\u001b[43mchunked\u001b[49m\u001b[38;5;241;43m=\u001b[39;49m\u001b[43mchunked\u001b[49m\u001b[43m,\u001b[49m\n\u001b[1;32m    711\u001b[0m \u001b[43m\u001b[49m\u001b[43m)\u001b[49m\n\u001b[1;32m    713\u001b[0m \u001b[38;5;66;03m# If we're going to release the connection in ``finally:``, then\u001b[39;00m\n\u001b[1;32m    714\u001b[0m \u001b[38;5;66;03m# the response doesn't need to know about the connection. Otherwise\u001b[39;00m\n\u001b[1;32m    715\u001b[0m \u001b[38;5;66;03m# it will also try to release it and we'll have a double-release\u001b[39;00m\n\u001b[1;32m    716\u001b[0m \u001b[38;5;66;03m# mess.\u001b[39;00m\n\u001b[1;32m    717\u001b[0m response_conn \u001b[38;5;241m=\u001b[39m conn \u001b[38;5;28;01mif\u001b[39;00m \u001b[38;5;129;01mnot\u001b[39;00m release_conn \u001b[38;5;28;01melse\u001b[39;00m \u001b[38;5;28;01mNone\u001b[39;00m\n",
      "File \u001b[0;32m~/miniconda3/envs/ece230/lib/python3.8/site-packages/urllib3/connectionpool.py:449\u001b[0m, in \u001b[0;36mHTTPConnectionPool._make_request\u001b[0;34m(self, conn, method, url, timeout, chunked, **httplib_request_kw)\u001b[0m\n\u001b[1;32m    444\u001b[0m             httplib_response \u001b[38;5;241m=\u001b[39m conn\u001b[38;5;241m.\u001b[39mgetresponse()\n\u001b[1;32m    445\u001b[0m         \u001b[38;5;28;01mexcept\u001b[39;00m \u001b[38;5;167;01mBaseException\u001b[39;00m \u001b[38;5;28;01mas\u001b[39;00m e:\n\u001b[1;32m    446\u001b[0m             \u001b[38;5;66;03m# Remove the TypeError from the exception chain in\u001b[39;00m\n\u001b[1;32m    447\u001b[0m             \u001b[38;5;66;03m# Python 3 (including for exceptions like SystemExit).\u001b[39;00m\n\u001b[1;32m    448\u001b[0m             \u001b[38;5;66;03m# Otherwise it looks like a bug in the code.\u001b[39;00m\n\u001b[0;32m--> 449\u001b[0m             \u001b[43msix\u001b[49m\u001b[38;5;241;43m.\u001b[39;49m\u001b[43mraise_from\u001b[49m\u001b[43m(\u001b[49m\u001b[43me\u001b[49m\u001b[43m,\u001b[49m\u001b[43m \u001b[49m\u001b[38;5;28;43;01mNone\u001b[39;49;00m\u001b[43m)\u001b[49m\n\u001b[1;32m    450\u001b[0m \u001b[38;5;28;01mexcept\u001b[39;00m (SocketTimeout, BaseSSLError, SocketError) \u001b[38;5;28;01mas\u001b[39;00m e:\n\u001b[1;32m    451\u001b[0m     \u001b[38;5;28mself\u001b[39m\u001b[38;5;241m.\u001b[39m_raise_timeout(err\u001b[38;5;241m=\u001b[39me, url\u001b[38;5;241m=\u001b[39murl, timeout_value\u001b[38;5;241m=\u001b[39mread_timeout)\n",
      "File \u001b[0;32m<string>:3\u001b[0m, in \u001b[0;36mraise_from\u001b[0;34m(value, from_value)\u001b[0m\n",
      "File \u001b[0;32m~/miniconda3/envs/ece230/lib/python3.8/site-packages/urllib3/connectionpool.py:444\u001b[0m, in \u001b[0;36mHTTPConnectionPool._make_request\u001b[0;34m(self, conn, method, url, timeout, chunked, **httplib_request_kw)\u001b[0m\n\u001b[1;32m    441\u001b[0m \u001b[38;5;28;01mexcept\u001b[39;00m \u001b[38;5;167;01mTypeError\u001b[39;00m:\n\u001b[1;32m    442\u001b[0m     \u001b[38;5;66;03m# Python 3\u001b[39;00m\n\u001b[1;32m    443\u001b[0m     \u001b[38;5;28;01mtry\u001b[39;00m:\n\u001b[0;32m--> 444\u001b[0m         httplib_response \u001b[38;5;241m=\u001b[39m \u001b[43mconn\u001b[49m\u001b[38;5;241;43m.\u001b[39;49m\u001b[43mgetresponse\u001b[49m\u001b[43m(\u001b[49m\u001b[43m)\u001b[49m\n\u001b[1;32m    445\u001b[0m     \u001b[38;5;28;01mexcept\u001b[39;00m \u001b[38;5;167;01mBaseException\u001b[39;00m \u001b[38;5;28;01mas\u001b[39;00m e:\n\u001b[1;32m    446\u001b[0m         \u001b[38;5;66;03m# Remove the TypeError from the exception chain in\u001b[39;00m\n\u001b[1;32m    447\u001b[0m         \u001b[38;5;66;03m# Python 3 (including for exceptions like SystemExit).\u001b[39;00m\n\u001b[1;32m    448\u001b[0m         \u001b[38;5;66;03m# Otherwise it looks like a bug in the code.\u001b[39;00m\n\u001b[1;32m    449\u001b[0m         six\u001b[38;5;241m.\u001b[39mraise_from(e, \u001b[38;5;28;01mNone\u001b[39;00m)\n",
      "File \u001b[0;32m~/miniconda3/envs/ece230/lib/python3.8/http/client.py:1348\u001b[0m, in \u001b[0;36mHTTPConnection.getresponse\u001b[0;34m(self)\u001b[0m\n\u001b[1;32m   1346\u001b[0m \u001b[38;5;28;01mtry\u001b[39;00m:\n\u001b[1;32m   1347\u001b[0m     \u001b[38;5;28;01mtry\u001b[39;00m:\n\u001b[0;32m-> 1348\u001b[0m         \u001b[43mresponse\u001b[49m\u001b[38;5;241;43m.\u001b[39;49m\u001b[43mbegin\u001b[49m\u001b[43m(\u001b[49m\u001b[43m)\u001b[49m\n\u001b[1;32m   1349\u001b[0m     \u001b[38;5;28;01mexcept\u001b[39;00m \u001b[38;5;167;01mConnectionError\u001b[39;00m:\n\u001b[1;32m   1350\u001b[0m         \u001b[38;5;28mself\u001b[39m\u001b[38;5;241m.\u001b[39mclose()\n",
      "File \u001b[0;32m~/miniconda3/envs/ece230/lib/python3.8/http/client.py:316\u001b[0m, in \u001b[0;36mHTTPResponse.begin\u001b[0;34m(self)\u001b[0m\n\u001b[1;32m    314\u001b[0m \u001b[38;5;66;03m# read until we get a non-100 response\u001b[39;00m\n\u001b[1;32m    315\u001b[0m \u001b[38;5;28;01mwhile\u001b[39;00m \u001b[38;5;28;01mTrue\u001b[39;00m:\n\u001b[0;32m--> 316\u001b[0m     version, status, reason \u001b[38;5;241m=\u001b[39m \u001b[38;5;28;43mself\u001b[39;49m\u001b[38;5;241;43m.\u001b[39;49m\u001b[43m_read_status\u001b[49m\u001b[43m(\u001b[49m\u001b[43m)\u001b[49m\n\u001b[1;32m    317\u001b[0m     \u001b[38;5;28;01mif\u001b[39;00m status \u001b[38;5;241m!=\u001b[39m CONTINUE:\n\u001b[1;32m    318\u001b[0m         \u001b[38;5;28;01mbreak\u001b[39;00m\n",
      "File \u001b[0;32m~/miniconda3/envs/ece230/lib/python3.8/http/client.py:277\u001b[0m, in \u001b[0;36mHTTPResponse._read_status\u001b[0;34m(self)\u001b[0m\n\u001b[1;32m    276\u001b[0m \u001b[38;5;28;01mdef\u001b[39;00m \u001b[38;5;21m_read_status\u001b[39m(\u001b[38;5;28mself\u001b[39m):\n\u001b[0;32m--> 277\u001b[0m     line \u001b[38;5;241m=\u001b[39m \u001b[38;5;28mstr\u001b[39m(\u001b[38;5;28;43mself\u001b[39;49m\u001b[38;5;241;43m.\u001b[39;49m\u001b[43mfp\u001b[49m\u001b[38;5;241;43m.\u001b[39;49m\u001b[43mreadline\u001b[49m\u001b[43m(\u001b[49m\u001b[43m_MAXLINE\u001b[49m\u001b[43m \u001b[49m\u001b[38;5;241;43m+\u001b[39;49m\u001b[43m \u001b[49m\u001b[38;5;241;43m1\u001b[39;49m\u001b[43m)\u001b[49m, \u001b[38;5;124m\"\u001b[39m\u001b[38;5;124miso-8859-1\u001b[39m\u001b[38;5;124m\"\u001b[39m)\n\u001b[1;32m    278\u001b[0m     \u001b[38;5;28;01mif\u001b[39;00m \u001b[38;5;28mlen\u001b[39m(line) \u001b[38;5;241m>\u001b[39m _MAXLINE:\n\u001b[1;32m    279\u001b[0m         \u001b[38;5;28;01mraise\u001b[39;00m LineTooLong(\u001b[38;5;124m\"\u001b[39m\u001b[38;5;124mstatus line\u001b[39m\u001b[38;5;124m\"\u001b[39m)\n",
      "File \u001b[0;32m~/miniconda3/envs/ece230/lib/python3.8/socket.py:669\u001b[0m, in \u001b[0;36mSocketIO.readinto\u001b[0;34m(self, b)\u001b[0m\n\u001b[1;32m    667\u001b[0m \u001b[38;5;28;01mwhile\u001b[39;00m \u001b[38;5;28;01mTrue\u001b[39;00m:\n\u001b[1;32m    668\u001b[0m     \u001b[38;5;28;01mtry\u001b[39;00m:\n\u001b[0;32m--> 669\u001b[0m         \u001b[38;5;28;01mreturn\u001b[39;00m \u001b[38;5;28;43mself\u001b[39;49m\u001b[38;5;241;43m.\u001b[39;49m\u001b[43m_sock\u001b[49m\u001b[38;5;241;43m.\u001b[39;49m\u001b[43mrecv_into\u001b[49m\u001b[43m(\u001b[49m\u001b[43mb\u001b[49m\u001b[43m)\u001b[49m\n\u001b[1;32m    670\u001b[0m     \u001b[38;5;28;01mexcept\u001b[39;00m timeout:\n\u001b[1;32m    671\u001b[0m         \u001b[38;5;28mself\u001b[39m\u001b[38;5;241m.\u001b[39m_timeout_occurred \u001b[38;5;241m=\u001b[39m \u001b[38;5;28;01mTrue\u001b[39;00m\n",
      "\u001b[0;31mKeyboardInterrupt\u001b[0m: "
     ]
    }
   ],
   "source": [
    "#### Now it's time to begin actual scraping. If you press the \"LOAD MORE STORIES\" link at the bottom of the feed\n",
    "#### You'll find that the page will load 8 additional stories\n",
    "#### Given that behavior, we should set up a loop that will iteratively scrape stories, load more stories, scrape stories, load more stories... and so on\n",
    "\n",
    "\n",
    "# We'll use \"number_of_stories_seen\" to form our loop condition.  \n",
    "# If we press \"load more stories\" but the number of stories in the feed doesn't increment above \"number_of_stories_seen, we're presumably done. \n",
    "# I say presumably, because I'm not sure how long we can keep loading stories without breaking the page\n",
    "# And even if we can keep loading for a while, I'm not sure doing so wil capture every story Cardinal & Pine has published\n",
    "# You'll want to do some sanity checks to ensure this approach really can capture all the stories. \n",
    "\n",
    "# If it happens to work, great! If not, we'll have to devise something new :)\n",
    "# Feel free to reach out if you'd like to talk strategy. For now, take this script as more of a scraping tutorial than a perfect methodology for logging all stories\n",
    "# Some of the \"fun\" of scraping comes from figuring out how to get the content you want\n",
    "\n",
    "number_of_stories_seen = 0  # And without further ado, the variable in question \n",
    "\n",
    "# This is a CSS selector. # See https://saucelabs.com/resources/blog/selenium-tips-css-selectors for more info\n",
    "# Each story element in the feed is contained in a div with the class \"item\"\n",
    "# We can select it with this CSS selector syntax\n",
    "story_container_css_selector = \"div.item\" \n",
    "\n",
    "more_button_css_selector = \"load-more-button\"\n",
    "\n",
    "story_url_css_selector = \"a.item-title\" # Another CSS selector that we'll use to find story URLs \n",
    "\n",
    "all_stories_metadata = []\n",
    "\n",
    "# I dislike the \"while True\" syntax, but it's standard in Python\n",
    "# See https://peps.python.org/pep-0315/ and https://twitter.com/raymondh/status/1528772337306419200\n",
    "# We'll break the loop when we reach our exit condition\n",
    "while True:\n",
    "    \n",
    "    # Capture all of the story container divs in our feed\n",
    "    # Note that we're using \"find_elements\" here, not \"find_element\" like we used above. \n",
    "    # find_elements will return all of the elements matching our selection criterion. find_element only returns the first\n",
    "    story_container_elements = feed_container_element.find_elements(By.CSS_SELECTOR, story_container_css_selector)  \n",
    "    \n",
    "    # If we've seen all the stories in the feed, we're done. Break the loop\n",
    "    number_of_stories_in_feed = len(story_container_elements)\n",
    "    if number_of_stories_in_feed == number_of_stories_seen:\n",
    "        print(f\"No more stories in feed. Processed {number_of_stories_seen} stories total\")\n",
    "        break \n",
    "    \n",
    "    print(f\"{number_of_stories_in_feed} stories in feed\")\n",
    "    # Stories load 8 at a time. We should always scrape the most recently loaded 8 stories. \n",
    "    for story_container_element in story_container_elements[-8:]:\n",
    "        # Find the \"a\" tag containing the story link\n",
    "        # Then extract its \"href\" attribute, AKA the story's URL\n",
    "        story_url = story_container_element.find_element(By.CSS_SELECTOR, story_url_css_selector).get_attribute(\"href\")\n",
    "        \n",
    "        # Do the actual scraping\n",
    "        story_metadata = scrape_story(driver, story_url)  \n",
    "        \n",
    "        # Store the current story's metadata in our larger data structure\n",
    "        all_stories_metadata.append(story_metadata) \n",
    "        \n",
    "        # increment our stories seen counter\n",
    "        number_of_stories_seen += 1\n",
    "    \n",
    "    # After each set of 8 stories, we'll need to load more. \n",
    "    # Remove the break below and find a way to click on the \"load more stories\" link\n",
    "    # You may need to make sure the link is visible before you click it (scroll to it)\n",
    "    more_button_element = driver.find_element(By.CLASS_NAME, more_button_css_selector)\n",
    "    more_button_element.click()\n",
    "    \n",
    "    "
   ]
  },
  {
   "cell_type": "code",
   "execution_count": null,
   "id": "520a71d0-6b0e-4f51-b07a-fa59288fc4af",
   "metadata": {},
   "outputs": [],
   "source": [
    "### eventually you'll want to write that all_stories_metadata array to a database\n",
    "### when you're designing a schema for the database, you might consider creating one table for outlets, one for stories, and another for authors\n",
    "### although if you have a solution you like better, feel free to go that way.  \n",
    "### And again, email or drop a message if you have questions. "
   ]
  },
  {
   "cell_type": "code",
   "execution_count": null,
   "id": "ca25d564-9e26-4023-952f-f70205a09400",
   "metadata": {},
   "outputs": [],
   "source": [
    "driver.quit()"
   ]
  }
 ],
 "metadata": {
  "kernelspec": {
   "display_name": "Python 3 (ipykernel)",
   "language": "python",
   "name": "python3"
  },
  "language_info": {
   "codemirror_mode": {
    "name": "ipython",
    "version": 3
   },
   "file_extension": ".py",
   "mimetype": "text/x-python",
   "name": "python",
   "nbconvert_exporter": "python",
   "pygments_lexer": "ipython3",
   "version": "3.8.16"
  }
 },
 "nbformat": 4,
 "nbformat_minor": 5
}
